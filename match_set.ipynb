{
 "cells": [
  {
   "cell_type": "code",
   "execution_count": 7,
   "id": "d2425bd3",
   "metadata": {},
   "outputs": [],
   "source": [
    "# Imports.\n",
    "import pandas as pd\n",
    "import csv\n",
    "import re\n",
    "import math\n",
    "from collections import Counter\n",
    "from tqdm import tqdm"
   ]
  },
  {
   "cell_type": "code",
   "execution_count": 8,
   "id": "a7101c3e",
   "metadata": {},
   "outputs": [
    {
     "name": "stdout",
     "output_type": "stream",
     "text": [
      "Length of USDA portions dataset: 32614\n",
      "\n",
      "Lenght of recipes dataset: 30925\n",
      "\n"
     ]
    }
   ],
   "source": [
    "# Get datasets.\n",
    "grams = pd.read_csv(\"grams.csv\")\n",
    "print(\"Length of USDA portions dataset:\", len(grams))\n",
    "print(\"\")\n",
    "\n",
    "ingr = pd.read_csv(\"ingr.csv\")\n",
    "print(\"Lenght of recipes dataset:\", len(ingr))\n",
    "print(\"\")"
   ]
  },
  {
   "cell_type": "code",
   "execution_count": 9,
   "id": "44ea9984",
   "metadata": {},
   "outputs": [],
   "source": [
    "# Formatted food items from ingredients dataset will be appended to this list.\n",
    "ts = []\n",
    "\n",
    "# Food items in the USDA portions dataset will be appended to this list.\n",
    "comp = []\n",
    "\n",
    "# This while loop iterates through ingredients dataset and formats each food item to resemble the formatting on the USDA dataset.\n",
    "# Formatted items are appended to ts list.\n",
    "indx = 0\n",
    "while indx < len(ingr):\n",
    "    for element in ingr.food[indx].split(\",\"):\n",
    "        \n",
    "        # This if statement eliminates possible non-food items that are mixed in the ingredients dataset.\n",
    "        if \"with\" not in element:\n",
    "            \n",
    "            # Elements are formatted.\n",
    "            element = element.lower()\n",
    "            a = re.sub(r\"[\\[\\]]\", \"\", element)\n",
    "            a = a.replace(\"'\", \"\")\n",
    "            a = a.lstrip()\n",
    "            ts.append(a)\n",
    "    \n",
    "    # Index is increased by one at the end of the loop.\n",
    "    indx+=1\n",
    "\n",
    "# Duplicate food items are removed.\n",
    "ts = list(set(ts))\n",
    "\n",
    "# This loop iterates through the USDA portions dataset and appends each food item to comp list.\n",
    "for element in grams.Main_Food_Description:\n",
    "    comp.append(element)\n",
    "\n",
    "# Duplicate food items are removed.\n",
    "comp = list(set(comp))"
   ]
  },
  {
   "cell_type": "code",
   "execution_count": 10,
   "id": "8bc19190",
   "metadata": {},
   "outputs": [],
   "source": [
    "# A regex pattern is set to be used in text to vector function.\n",
    "WORD = re.compile(r\"\\w+\")\n",
    "\n",
    "# This function turns inputted text to vector by counting individual words in it.\n",
    "def text_to_vector(text):\n",
    "    words = WORD.findall(text)\n",
    "    return Counter(words)"
   ]
  },
  {
   "cell_type": "code",
   "execution_count": 11,
   "id": "fac0d9c1",
   "metadata": {},
   "outputs": [],
   "source": [
    "# This function gives the cosine similarity score between two vectors.\n",
    "def get_cosine(vec1, vec2):\n",
    "    intersection = set(vec1.keys()) & set(vec2.keys())\n",
    "    numerator = sum([vec1[x] * vec2[x] for x in intersection])\n",
    "\n",
    "    sum1 = sum([vec1[x] ** 2 for x in list(vec1.keys())])\n",
    "    sum2 = sum([vec2[x] ** 2 for x in list(vec2.keys())])\n",
    "    denominator = math.sqrt(sum1) * math.sqrt(sum2)\n",
    "\n",
    "    if not denominator:\n",
    "        return 0.0\n",
    "    else:\n",
    "        return float(numerator) / denominator"
   ]
  },
  {
   "cell_type": "code",
   "execution_count": 12,
   "id": "16ed8610",
   "metadata": {},
   "outputs": [
    {
     "name": "stderr",
     "output_type": "stream",
     "text": [
      "100%|█████████████████████████████████████| 16586/16586 [15:12<00:00, 18.19it/s]\n"
     ]
    }
   ],
   "source": [
    "# These lists will be zipped together after the proper matches are made by looking at the best cosine similarity scores.\n",
    "ingr_lst = []\n",
    "usda_lst = []\n",
    "cos_lst = []\n",
    "\n",
    "# This for loop iterates through food items from ingredient dataset.\n",
    "for element in tqdm(ts):\n",
    "    \n",
    "    # The chosen food item is transformed to a vector.\n",
    "    text1 = element\n",
    "    vector1 = text_to_vector(text1)\n",
    "\n",
    "    # These lists will store the chosen food item's cosine similarity scores with all food items from USDA portions dataset.\n",
    "    # fs stores names of the items, cs stores similarity scores of those items. They will be zipped together.\n",
    "    fs = [] \n",
    "    cs = []\n",
    "    \n",
    "    # This for loop iterates through USDA portions dataset's food items.\n",
    "    for i in comp:\n",
    "        \n",
    "        # USDA food item is transformed to a vector.\n",
    "        text2 = i\n",
    "        vector2 = text_to_vector(text2)\n",
    "        \n",
    "        # Cosine similarity score between the USDA food item and the chosen food item is calculated.\n",
    "        cosine = get_cosine(vector1, vector2)\n",
    "        \n",
    "        # Food item's name and its score is appended to their respective lists.\n",
    "        fs.append(i)\n",
    "        cs.append(cosine)\n",
    "        \n",
    "    # By zipping fs and cs, a master list containing each USDA item and its similarity score with the chosen food item is obtained.\n",
    "    ms = list(zip(fs, cs))\n",
    "    \n",
    "    # The name of the chosen food item is appended to ingr_lst.\n",
    "    ingr_lst.append(text1)\n",
    "    \n",
    "    # The name of the USDA food item which has the highest similarity with the chosen food item is appended to usda_lst.\n",
    "    usda_lst.append(max(ms, key = lambda x: x[1])[0])\n",
    "    \n",
    "    # The best similarity score is appended to the cos_lst.\n",
    "    cos_lst.append(max(ms, key = lambda x: x[1])[1])"
   ]
  },
  {
   "cell_type": "code",
   "execution_count": 13,
   "id": "7dddaa1d",
   "metadata": {},
   "outputs": [],
   "source": [
    "# Three lists are zipped to form a list of best matches names match_lst.\n",
    "match_lst = list(zip(ingr_lst, usda_lst, cos_lst))\n",
    "\n",
    "# match_lst is written as a csv file names link.csv.\n",
    "with open('link.csv', 'w', newline=\"\") as csvfile:\n",
    "    fwriter = csv.writer(csvfile)\n",
    "    fwriter.writerows(match_lst)"
   ]
  },
  {
   "cell_type": "code",
   "execution_count": null,
   "id": "063001e9",
   "metadata": {},
   "outputs": [],
   "source": []
  }
 ],
 "metadata": {
  "kernelspec": {
   "display_name": "Python 3 (ipykernel)",
   "language": "python",
   "name": "python3"
  },
  "language_info": {
   "codemirror_mode": {
    "name": "ipython",
    "version": 3
   },
   "file_extension": ".py",
   "mimetype": "text/x-python",
   "name": "python",
   "nbconvert_exporter": "python",
   "pygments_lexer": "ipython3",
   "version": "3.9.7"
  }
 },
 "nbformat": 4,
 "nbformat_minor": 5
}
